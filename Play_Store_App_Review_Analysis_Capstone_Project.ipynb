{
  "nbformat": 4,
  "nbformat_minor": 0,
  "metadata": {
    "kernelspec": {
      "display_name": "Python 3",
      "language": "python",
      "name": "python3"
    },
    "language_info": {
      "codemirror_mode": {
        "name": "ipython",
        "version": 3
      },
      "file_extension": ".py",
      "mimetype": "text/x-python",
      "name": "python",
      "nbconvert_exporter": "python",
      "pygments_lexer": "ipython3",
      "version": "3.6.6"
    },
    "colab": {
      "provenance": [],
      "collapsed_sections": [],
      "include_colab_link": true
    }
  },
  "cells": [
    {
      "cell_type": "markdown",
      "metadata": {
        "id": "view-in-github",
        "colab_type": "text"
      },
      "source": [
        "<a href=\"https://colab.research.google.com/github/KrushnaChaure/play-store-app-review-analysis/blob/main/Play_Store_App_Review_Analysis_Capstone_Project.ipynb\" target=\"_parent\"><img src=\"https://colab.research.google.com/assets/colab-badge.svg\" alt=\"Open In Colab\"/></a>"
      ]
    },
    {
      "cell_type": "markdown",
      "metadata": {
        "id": "Y06xIdG26kRF"
      },
      "source": [
        "## <b> The Play Store apps data has enormous potential to drive app-making businesses to success. Actionable insights can be drawn for developers to work on and capture the Android market. </b>\n",
        "\n",
        "## <b> Each app (row) has values for catergory, rating, size, and more. Another dataset contains customer reviews of the android apps.</b>\n",
        "\n",
        "## <b> Explore and analyze the data to discover key factors responsible for app engagement and success. </b>"
      ]
    },
    {
      "cell_type": "markdown",
      "source": [
        "## In today world of internet smartphone playing a crucial role with the help of apps which is present in smartphone which is using by human."
      ],
      "metadata": {
        "id": "FxiOxag3HYHB"
      }
    },
    {
      "cell_type": "markdown",
      "source": [
        "So why should we use this apps????\n",
        "\n",
        "No doubts there are multiple advantages of using apps:\n",
        "\n",
        "\n",
        "*   Communication and Engagement with customer,friends,family\n",
        "*   Handling Businesses\n",
        "\n",
        "*   Fun & Entertainment \n",
        "\n",
        "*   Study and Education\n",
        "\n",
        "\n",
        "*   Day to Day life and their are many more......\n",
        "\n"
      ],
      "metadata": {
        "id": "BlFbOH-_Mkuh"
      }
    },
    {
      "cell_type": "markdown",
      "source": [
        "## Importance of Apps data and Review analysis"
      ],
      "metadata": {
        "id": "DKHMvmWgTvOd"
      }
    },
    {
      "cell_type": "markdown",
      "source": [
        "\n",
        "\n",
        "*   So devloper devloping and design apps but its important to know that what types of \n",
        "requirement of customer.\n",
        "\n",
        "*   To help targeting the most impactful improvement to app,can view top trends and issues that the customer mentions.\n",
        "*   Through comprehensive analysis of designated apps, optimizing the ratings and reviews maintains high reputation.\n",
        "\n",
        "*   The objective of this project is to deliver insights to understand customer demands better and thus help developers to popularize the product.\n"
      ],
      "metadata": {
        "id": "drWbe4oUQ6TM"
      }
    },
    {
      "cell_type": "markdown",
      "source": [
        "## So we are using Exploratory Data Analysis(EDA) which help us to understand customer demands better and doing visualization over them to deliver some insights to devloper."
      ],
      "metadata": {
        "id": "4drNfSPnbN8G"
      }
    },
    {
      "cell_type": "markdown",
      "source": [
        "Lets now deep dive into our input data files:\n",
        "\n",
        "\n",
        "*   Play Store Data.csv - It contains the basic details of the app like number of user reviews, ratings, etc.\n",
        "*   User Reviews.csv - It contains the user reviews and its sentiment score for the respective app.\n",
        "\n"
      ],
      "metadata": {
        "id": "qrmRnS7qaDU1"
      }
    },
    {
      "cell_type": "markdown",
      "source": [
        "## Now lets importing necessary packages and libraries"
      ],
      "metadata": {
        "id": "fXTmT3PIRymp"
      }
    },
    {
      "cell_type": "code",
      "source": [
        "import numpy as np                       # doing numerical operatoin over data(1 dimensional)\n",
        "import pandas as pd                      # doing operation over dataframe object like row and column label data(2 dimensional)\n",
        "import matplotlib.pyplot as plt          # doing data visualization\n",
        "import seaborn as sns                    # doing data visualization\n",
        "%matplotlib inline     \n",
        "# %matplotlib inline sets the backend of matplotlib to the 'inline' backend                  "
      ],
      "metadata": {
        "id": "l9m7Nk2_HMzy"
      },
      "execution_count": 4,
      "outputs": []
    },
    {
      "cell_type": "markdown",
      "source": [
        "## Lets first mount the drive to connect dataset to the notebook "
      ],
      "metadata": {
        "id": "pSKM0gZOcD9a"
      }
    },
    {
      "cell_type": "code",
      "source": [
        "from google.colab import drive\n",
        "drive.mount('/content/drive')"
      ],
      "metadata": {
        "colab": {
          "base_uri": "https://localhost:8080/"
        },
        "id": "ERxqElwFgA1v",
        "outputId": "1ba431cb-ec51-4445-d9fe-448a9ce7d20d"
      },
      "execution_count": 5,
      "outputs": [
        {
          "output_type": "stream",
          "name": "stdout",
          "text": [
            "Mounted at /content/drive\n"
          ]
        }
      ]
    },
    {
      "cell_type": "code",
      "metadata": {
        "id": "dByMsuzT8Tnw"
      },
      "source": [
        "# Now reading the dataset path\n",
        "df_apps_data = pd.read_csv('/content/drive/MyDrive/Almabetter/Module1/Capstone Projects/Play Store Data.csv') \n",
        "df_apps_review= pd.read_csv('/content/drive/MyDrive/Almabetter/Module1/Capstone Projects/User Reviews.csv')"
      ],
      "execution_count": 8,
      "outputs": []
    },
    {
      "cell_type": "code",
      "source": [],
      "metadata": {
        "id": "SYunOftci0aD"
      },
      "execution_count": null,
      "outputs": []
    },
    {
      "cell_type": "code",
      "source": [],
      "metadata": {
        "id": "L1xWPNsdi0Sl"
      },
      "execution_count": null,
      "outputs": []
    }
  ]
}